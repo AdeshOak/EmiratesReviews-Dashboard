{
  "nbformat": 4,
  "nbformat_minor": 0,
  "metadata": {
    "colab": {
      "provenance": [],
      "authorship_tag": "ABX9TyN6du2lB5cS0Qn7gjXPcobE"
    },
    "kernelspec": {
      "name": "python3",
      "display_name": "Python 3"
    },
    "language_info": {
      "name": "python"
    }
  },
  "cells": [
    {
      "cell_type": "code",
      "execution_count": 1,
      "metadata": {
        "colab": {
          "base_uri": "https://localhost:8080/",
          "height": 74
        },
        "id": "LyiLqEGpnjfM",
        "outputId": "ed19b5ff-cc25-4e59-c6ca-7ab8195e40a6"
      },
      "outputs": [
        {
          "output_type": "display_data",
          "data": {
            "text/plain": [
              "<IPython.core.display.HTML object>"
            ],
            "text/html": [
              "\n",
              "     <input type=\"file\" id=\"files-904924e2-8e5d-4cfc-b6fd-fb3ecdd4bc96\" name=\"files[]\" multiple disabled\n",
              "        style=\"border:none\" />\n",
              "     <output id=\"result-904924e2-8e5d-4cfc-b6fd-fb3ecdd4bc96\">\n",
              "      Upload widget is only available when the cell has been executed in the\n",
              "      current browser session. Please rerun this cell to enable.\n",
              "      </output>\n",
              "      <script>// Copyright 2017 Google LLC\n",
              "//\n",
              "// Licensed under the Apache License, Version 2.0 (the \"License\");\n",
              "// you may not use this file except in compliance with the License.\n",
              "// You may obtain a copy of the License at\n",
              "//\n",
              "//      http://www.apache.org/licenses/LICENSE-2.0\n",
              "//\n",
              "// Unless required by applicable law or agreed to in writing, software\n",
              "// distributed under the License is distributed on an \"AS IS\" BASIS,\n",
              "// WITHOUT WARRANTIES OR CONDITIONS OF ANY KIND, either express or implied.\n",
              "// See the License for the specific language governing permissions and\n",
              "// limitations under the License.\n",
              "\n",
              "/**\n",
              " * @fileoverview Helpers for google.colab Python module.\n",
              " */\n",
              "(function(scope) {\n",
              "function span(text, styleAttributes = {}) {\n",
              "  const element = document.createElement('span');\n",
              "  element.textContent = text;\n",
              "  for (const key of Object.keys(styleAttributes)) {\n",
              "    element.style[key] = styleAttributes[key];\n",
              "  }\n",
              "  return element;\n",
              "}\n",
              "\n",
              "// Max number of bytes which will be uploaded at a time.\n",
              "const MAX_PAYLOAD_SIZE = 100 * 1024;\n",
              "\n",
              "function _uploadFiles(inputId, outputId) {\n",
              "  const steps = uploadFilesStep(inputId, outputId);\n",
              "  const outputElement = document.getElementById(outputId);\n",
              "  // Cache steps on the outputElement to make it available for the next call\n",
              "  // to uploadFilesContinue from Python.\n",
              "  outputElement.steps = steps;\n",
              "\n",
              "  return _uploadFilesContinue(outputId);\n",
              "}\n",
              "\n",
              "// This is roughly an async generator (not supported in the browser yet),\n",
              "// where there are multiple asynchronous steps and the Python side is going\n",
              "// to poll for completion of each step.\n",
              "// This uses a Promise to block the python side on completion of each step,\n",
              "// then passes the result of the previous step as the input to the next step.\n",
              "function _uploadFilesContinue(outputId) {\n",
              "  const outputElement = document.getElementById(outputId);\n",
              "  const steps = outputElement.steps;\n",
              "\n",
              "  const next = steps.next(outputElement.lastPromiseValue);\n",
              "  return Promise.resolve(next.value.promise).then((value) => {\n",
              "    // Cache the last promise value to make it available to the next\n",
              "    // step of the generator.\n",
              "    outputElement.lastPromiseValue = value;\n",
              "    return next.value.response;\n",
              "  });\n",
              "}\n",
              "\n",
              "/**\n",
              " * Generator function which is called between each async step of the upload\n",
              " * process.\n",
              " * @param {string} inputId Element ID of the input file picker element.\n",
              " * @param {string} outputId Element ID of the output display.\n",
              " * @return {!Iterable<!Object>} Iterable of next steps.\n",
              " */\n",
              "function* uploadFilesStep(inputId, outputId) {\n",
              "  const inputElement = document.getElementById(inputId);\n",
              "  inputElement.disabled = false;\n",
              "\n",
              "  const outputElement = document.getElementById(outputId);\n",
              "  outputElement.innerHTML = '';\n",
              "\n",
              "  const pickedPromise = new Promise((resolve) => {\n",
              "    inputElement.addEventListener('change', (e) => {\n",
              "      resolve(e.target.files);\n",
              "    });\n",
              "  });\n",
              "\n",
              "  const cancel = document.createElement('button');\n",
              "  inputElement.parentElement.appendChild(cancel);\n",
              "  cancel.textContent = 'Cancel upload';\n",
              "  const cancelPromise = new Promise((resolve) => {\n",
              "    cancel.onclick = () => {\n",
              "      resolve(null);\n",
              "    };\n",
              "  });\n",
              "\n",
              "  // Wait for the user to pick the files.\n",
              "  const files = yield {\n",
              "    promise: Promise.race([pickedPromise, cancelPromise]),\n",
              "    response: {\n",
              "      action: 'starting',\n",
              "    }\n",
              "  };\n",
              "\n",
              "  cancel.remove();\n",
              "\n",
              "  // Disable the input element since further picks are not allowed.\n",
              "  inputElement.disabled = true;\n",
              "\n",
              "  if (!files) {\n",
              "    return {\n",
              "      response: {\n",
              "        action: 'complete',\n",
              "      }\n",
              "    };\n",
              "  }\n",
              "\n",
              "  for (const file of files) {\n",
              "    const li = document.createElement('li');\n",
              "    li.append(span(file.name, {fontWeight: 'bold'}));\n",
              "    li.append(span(\n",
              "        `(${file.type || 'n/a'}) - ${file.size} bytes, ` +\n",
              "        `last modified: ${\n",
              "            file.lastModifiedDate ? file.lastModifiedDate.toLocaleDateString() :\n",
              "                                    'n/a'} - `));\n",
              "    const percent = span('0% done');\n",
              "    li.appendChild(percent);\n",
              "\n",
              "    outputElement.appendChild(li);\n",
              "\n",
              "    const fileDataPromise = new Promise((resolve) => {\n",
              "      const reader = new FileReader();\n",
              "      reader.onload = (e) => {\n",
              "        resolve(e.target.result);\n",
              "      };\n",
              "      reader.readAsArrayBuffer(file);\n",
              "    });\n",
              "    // Wait for the data to be ready.\n",
              "    let fileData = yield {\n",
              "      promise: fileDataPromise,\n",
              "      response: {\n",
              "        action: 'continue',\n",
              "      }\n",
              "    };\n",
              "\n",
              "    // Use a chunked sending to avoid message size limits. See b/62115660.\n",
              "    let position = 0;\n",
              "    do {\n",
              "      const length = Math.min(fileData.byteLength - position, MAX_PAYLOAD_SIZE);\n",
              "      const chunk = new Uint8Array(fileData, position, length);\n",
              "      position += length;\n",
              "\n",
              "      const base64 = btoa(String.fromCharCode.apply(null, chunk));\n",
              "      yield {\n",
              "        response: {\n",
              "          action: 'append',\n",
              "          file: file.name,\n",
              "          data: base64,\n",
              "        },\n",
              "      };\n",
              "\n",
              "      let percentDone = fileData.byteLength === 0 ?\n",
              "          100 :\n",
              "          Math.round((position / fileData.byteLength) * 100);\n",
              "      percent.textContent = `${percentDone}% done`;\n",
              "\n",
              "    } while (position < fileData.byteLength);\n",
              "  }\n",
              "\n",
              "  // All done.\n",
              "  yield {\n",
              "    response: {\n",
              "      action: 'complete',\n",
              "    }\n",
              "  };\n",
              "}\n",
              "\n",
              "scope.google = scope.google || {};\n",
              "scope.google.colab = scope.google.colab || {};\n",
              "scope.google.colab._files = {\n",
              "  _uploadFiles,\n",
              "  _uploadFilesContinue,\n",
              "};\n",
              "})(self);\n",
              "</script> "
            ]
          },
          "metadata": {}
        },
        {
          "output_type": "stream",
          "name": "stdout",
          "text": [
            "Saving EmiratesReviews.csv to EmiratesReviews.csv\n"
          ]
        }
      ],
      "source": [
        "from google.colab import files\n",
        "uploaded = files.upload()"
      ]
    },
    {
      "cell_type": "code",
      "source": [
        "import pandas as pd\n",
        "\n",
        "df = pd.read_csv(\"EmiratesReviews.csv\")"
      ],
      "metadata": {
        "id": "1VoqvASUnyuU"
      },
      "execution_count": 2,
      "outputs": []
    },
    {
      "cell_type": "markdown",
      "source": [
        "## Format and Reorganize DataFrame Columns for Standardized Output"
      ],
      "metadata": {
        "id": "1wf9RCizqAw3"
      }
    },
    {
      "cell_type": "code",
      "source": [
        "df_new = df.rename(columns={\n",
        "    \"Title\": \"header\",\n",
        "    \"Date Published\": \"date\",\n",
        "    \"Status\": \"trip_verified\",  # Assuming 'Status' maps to 'trip_verified'\n",
        "    \"Aircraft\": \"aircraft\",\n",
        "    \"Travel Type\": \"traveller_type\",  # Renamed 'Travel Type' to 'traveller_type'\n",
        "    \"Travel Class\": \"seat_type\",\n",
        "    \"Route\": \"route\",\n",
        "    \"Date Flown\": \"date_flown\",\n",
        "    \"Seating Comfort\": \"seat_comfort\",\n",
        "    \"Staff Service\": \"cabin_staff_service\",  # Renamed 'Staff Service' to 'cabin_staff_service'\n",
        "    \"Food Quality\": \"food_beverages\",  # Renamed 'Food Quality' to 'food_beverages'\n",
        "    \"Entertainment\": \"entertainment\",\n",
        "    \"WiFi\": \"wifi\",  # Renamed WiFi to 'wifi'\n",
        "    \"Ground Service\": \"ground_service\",\n",
        "    \"Value for Money\": \"value_for_money\",\n",
        "    \"Recommended\": \"recommended\",\n",
        "    \"Overall Rating\": \"rating\",  # Renamed 'Overall Rating' to 'rating'\n",
        "    \"Review\": \"content\",  # 'Review' is the content of the review\n",
        "    \"Country\": \"place\"  # 'Country' is renamed to 'place'\n",
        "})\n",
        "\n",
        "# Add 'author' column with 'None' and replace it with 'traveller_type'\n",
        "df_new[\"author\"] = df_new[\"traveller_type\"]\n",
        "\n",
        "# Reordering the columns as per our# desired output\n",
        "new_columns = [\n",
        "    \"header\", \"author\", \"date\", \"place\", \"content\", \"aircraft\",\n",
        "    \"traveller_type\", \"seat_type\", \"route\", \"date_flown\", \"recommended\",\n",
        "    \"trip_verified\", \"rating\", \"seat_comfort\", \"cabin_staff_service\",\n",
        "    \"food_beverages\", \"ground_service\", \"value_for_money\", \"entertainment\"\n",
        "]\n",
        "\n",
        "# Ensure the new order\n",
        "df_new = df_new[new_columns]\n",
        "\n",
        "#print(df_new.head(2))"
      ],
      "metadata": {
        "id": "51tF1ICrqTs3"
      },
      "execution_count": 5,
      "outputs": []
    },
    {
      "cell_type": "markdown",
      "source": [
        "## Ensure Numeric Consistency for Numeric Columns\n",
        "### (Everything should be in float)"
      ],
      "metadata": {
        "id": "JVs7W-CmqlhR"
      }
    },
    {
      "cell_type": "code",
      "source": [
        "print(df_new.dtypes)"
      ],
      "metadata": {
        "colab": {
          "base_uri": "https://localhost:8080/"
        },
        "id": "rgK_6UoFqyid",
        "outputId": "010d021a-6fb5-4c3c-c10d-cb4f317b87ca"
      },
      "execution_count": 7,
      "outputs": [
        {
          "output_type": "stream",
          "name": "stdout",
          "text": [
            "header                  object\n",
            "author                  object\n",
            "date                    object\n",
            "place                   object\n",
            "content                 object\n",
            "aircraft                object\n",
            "traveller_type          object\n",
            "seat_type               object\n",
            "route                   object\n",
            "date_flown              object\n",
            "recommended             object\n",
            "trip_verified           object\n",
            "rating                   int64\n",
            "seat_comfort           float64\n",
            "cabin_staff_service    float64\n",
            "food_beverages         float64\n",
            "ground_service         float64\n",
            "value_for_money          int64\n",
            "entertainment          float64\n",
            "dtype: object\n"
          ]
        }
      ]
    },
    {
      "cell_type": "code",
      "source": [
        "# Convert 'value_for_money' and 'rating' explicitly to float\n",
        "df_new['value_for_money'] = pd.to_numeric(df_new['value_for_money'], errors='coerce')\n",
        "df_new['rating'] = pd.to_numeric(df_new['rating'], errors='coerce')\n",
        "\n",
        "# Select remaining numerical columns and explicitly convert them to float\n",
        "numerical_columns = df_new.select_dtypes(include=['number']).columns\n",
        "\n",
        "# Apply conversion to float for all numerical columns\n",
        "df_new[numerical_columns] = df_new[numerical_columns].astype(float)\n"
      ],
      "metadata": {
        "id": "3a2qa6Moq79V"
      },
      "execution_count": 18,
      "outputs": []
    },
    {
      "cell_type": "code",
      "source": [
        "print(df_new.dtypes)"
      ],
      "metadata": {
        "colab": {
          "base_uri": "https://localhost:8080/"
        },
        "id": "UoFRMOCOrDYh",
        "outputId": "acdd242e-d89d-411a-980f-d640dfa469ae"
      },
      "execution_count": 19,
      "outputs": [
        {
          "output_type": "stream",
          "name": "stdout",
          "text": [
            "header                  object\n",
            "author                  object\n",
            "date                    object\n",
            "place                   object\n",
            "content                 object\n",
            "aircraft                object\n",
            "traveller_type          object\n",
            "seat_type               object\n",
            "route                   object\n",
            "date_flown              object\n",
            "recommended             object\n",
            "trip_verified           object\n",
            "rating                 float64\n",
            "seat_comfort           float64\n",
            "cabin_staff_service    float64\n",
            "food_beverages         float64\n",
            "ground_service         float64\n",
            "value_for_money        float64\n",
            "entertainment          float64\n",
            "dtype: object\n"
          ]
        }
      ]
    },
    {
      "cell_type": "markdown",
      "source": [
        "## Converting Date into required format\n",
        "\n",
        "### (mm/dd/yy)"
      ],
      "metadata": {
        "id": "_nswTPKyrkrv"
      }
    },
    {
      "cell_type": "code",
      "source": [
        "from datetime import datetime\n",
        "\n",
        "# Function to clean and convert dates\n",
        "def convert_date(date_str):\n",
        "    try:\n",
        "        # Remove ordinal suffixes (e.g., 'th', 'st', 'nd', 'rd')\n",
        "        date_str = date_str.replace('th', '').replace('st', '').replace('nd', '').replace('rd', '')\n",
        "\n",
        "        # Fix potential typos like \"Augu\" to \"August\"\n",
        "        date_str = date_str.replace('Augu', 'August')\n",
        "\n",
        "        # Parse and convert to the desired format\n",
        "        return datetime.strptime(date_str.strip(), \"%d %B %Y\").strftime(\"%m/%d/%y\")\n",
        "    except Exception:\n",
        "        return date_str  # Return original if parsing fails\n",
        "\n",
        "# Apply the function to the 'date' column\n",
        "df_new['date'] = df_new['date'].apply(convert_date)\n",
        "\n",
        "# Copy the 'date' values to the 'date_flown' column\n",
        "df_new['date_flown'] = df_new['date']\n",
        "\n",
        "# Verify the changes\n",
        "#print(df_new[['date', 'date_flown']].head())"
      ],
      "metadata": {
        "id": "wC26sWukrr92"
      },
      "execution_count": 21,
      "outputs": []
    },
    {
      "cell_type": "markdown",
      "source": [
        "## Standardize and Clean Aircraft Names in Dataset\n"
      ],
      "metadata": {
        "id": "u5j3U4wtr2y7"
      }
    },
    {
      "cell_type": "code",
      "source": [
        "import re\n",
        "\n",
        "# Function to standardize aircraft names with additional cleanup\n",
        "def standardize_aircraft(aircraft, mapping):\n",
        "    # Remove everything after 'and' (case-insensitive)\n",
        "    aircraft = re.sub(r\"\\s*and\\s.*\", \"\", aircraft, flags=re.IGNORECASE).strip()\n",
        "\n",
        "    # Handle cases like \"1 x Boeing 777 ER\", removing the prefix \"1 x\"\n",
        "    aircraft = re.sub(r\"^\\d+\\s*x\\s*\", \"\", aircraft).strip()\n",
        "\n",
        "    # Handle multiple aircraft types (e.g., \"A380-800 / Boeing 777-300\")\n",
        "    if \"/\" in aircraft or \"&\" in aircraft or \",\" in aircraft:\n",
        "        aircraft = aircraft.split(\"/\")[0].split(\"&\")[0].split(\",\")[0].strip()\n",
        "\n",
        "    # Clean up spaces, hyphens, and make the name consistent\n",
        "    aircraft = re.sub(r\"[\\s\\-]+\", \" \", aircraft).strip()\n",
        "\n",
        "    # Normalize aircraft names using the mapping\n",
        "    for standard, variations in mapping.items():\n",
        "        if aircraft.lower() in [v.lower() for v in variations]:\n",
        "            return standard\n",
        "\n",
        "    return aircraft.strip()\n",
        "\n",
        "# Create the mapping dictionary\n",
        "standard_aircraft = {\n",
        "    \"Boeing 777-300ER\": [\"boeing 777-300er\", \"b777-300er\", \"777-300er\", \"boeing777-300er\", \"boeing 777 300 er\", \"Boeing 777 300ER\",\n",
        "                         \"Boeing 777 300er\", \"Boeing 777 300Er\", \"Boeing 777 300BR\", \"Boeing 773ER\", \"Boeing777 300er\",\n",
        "                         \"777 300ER\", \"B777 300ER\", \"Boring 777 300ER\", \"B777\", \"Boing 777\", \"Boring 777\", \"Boeing 777 ER\",\n",
        "                         \"Boeing B777 300ER\", \"Boeing 777 31H (ER)\", \"B777 300\", \"Boeing 777 300R\", \"Boeing 737 300\",\n",
        "                         \"Boing 777 300\", \"Boeing 777‐300ER\", \"Boeing 777\", \"Boeing 777 300\"],\n",
        "    \"A380-800\": [\"a380-800\", \"a380 800\", \"a388\", \"a380\", \"A 380\", \"A380 8\", \"A380 800\", \"Airbus A380\", \"AB380\", \"A380 80\"],\n",
        "    \"Boeing 747\": [\"boeing 747\", \"boeing 747-400\", \"Boeing 747 400\"],\n",
        "    # Add more mappings as needed\n",
        "}\n",
        "\n",
        "# Drop rows with missing or invalid aircraft values\n",
        "df_new = df_new.dropna(subset=[\"aircraft\"])  # Drop rows with missing aircraft types\n",
        "df_new = df_new[~df_new[\"aircraft\"].isin(['?', ''])]  # Remove rows where aircraft column contains '?' or is empty\n",
        "\n",
        "# Apply the cleaning function to standardize the aircraft names in-place\n",
        "df_new[\"aircraft\"] = df_new[\"aircraft\"].apply(lambda x: standardize_aircraft(x, standard_aircraft))\n",
        "\n",
        "# Check the cleaned data\n",
        "print(df_new[\"aircraft\"].value_counts())\n"
      ],
      "metadata": {
        "colab": {
          "base_uri": "https://localhost:8080/"
        },
        "id": "6gi6yfhQsG0k",
        "outputId": "dc2bf358-b512-40a8-9520-782dd63c4d43"
      },
      "execution_count": 25,
      "outputs": [
        {
          "output_type": "stream",
          "name": "stdout",
          "text": [
            "aircraft\n",
            "A380-800            631\n",
            "Boeing 777-300ER    373\n",
            "Boeing 777 200       10\n",
            "A340                  3\n",
            "Boeing 747            3\n",
            "Boeing 737Max         1\n",
            "A340 300              1\n",
            "A330                  1\n",
            "Boeing 77W            1\n",
            "Ek227                 1\n",
            "EK 203                1\n",
            "Emirates              1\n",
            "Boeing 777W           1\n",
            "Boeing 777L           1\n",
            "Boeing 777 200LR      1\n",
            "BUS 780               1\n",
            "A380 Boeing 777       1\n",
            "BOEIN                 1\n",
            "Boeing 772            1\n",
            "777 A380              1\n",
            "A330 200              1\n",
            "Name: count, dtype: int64\n"
          ]
        }
      ]
    }
  ]
}